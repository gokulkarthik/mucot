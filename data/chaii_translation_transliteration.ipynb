{
 "cells": [
  {
   "cell_type": "markdown",
   "metadata": {
    "id": "nmprqLgp3KF9"
   },
   "source": [
    "# 1. Setup"
   ]
  },
  {
   "cell_type": "code",
   "execution_count": null,
   "metadata": {},
   "outputs": [],
   "source": [
    "import pandas as pd\n",
    "import re\n",
    "import os\n",
    "\n",
    "from tqdm.auto import tqdm\n",
    "tqdm.pandas()\n",
    "\n",
    "cwd = \"~/Desktop/chaii\"\n",
    "\n",
    "data = pd.read_csv(os.path.join(cwd, 'Data/train.csv'))\n",
    "#data = data.head()\n",
    "data['src'] = data['language'].str[:2]\n",
    "data = data.drop(columns=['language'])\n",
    "print(data.shape)\n",
    "data.head()"
   ]
  },
  {
   "cell_type": "code",
   "execution_count": null,
   "metadata": {},
   "outputs": [],
   "source": [
    "import nltk\n",
    "nltk.download('punkt')\n",
    "nltk.download('averaged_perceptron_tagger')"
   ]
  },
  {
   "cell_type": "markdown",
   "metadata": {
    "id": "YLltKOen3PVZ"
   },
   "source": [
    "## 1.1. Drive"
   ]
  },
  {
   "cell_type": "raw",
   "metadata": {
    "colab": {
     "base_uri": "https://localhost:8080/"
    },
    "id": "LzA-sAWDpFFP",
    "outputId": "5f2e2f1e-2e11-4277-aa9d-6026d305c871"
   },
   "source": [
    "from google.colab import drive\n",
    "drive.mount('/content/drive')"
   ]
  },
  {
   "cell_type": "raw",
   "metadata": {
    "id": "8WV1zxaVkYPb"
   },
   "source": [
    "import os\n",
    "cwd = \"/content/drive/Othercomputers/My MacBook Air/Google-Drive/Chaii\""
   ]
  },
  {
   "cell_type": "markdown",
   "metadata": {
    "id": "H7lNI8063l75"
   },
   "source": [
    "## 1.2 GCP"
   ]
  },
  {
   "cell_type": "raw",
   "metadata": {
    "colab": {
     "base_uri": "https://localhost:8080/"
    },
    "id": "Tu7DSZ_g4e1p",
    "outputId": "d3b5d264-ca31-4f89-e207-540220717e53"
   },
   "source": [
    "!pip install --upgrade google-cloud-translate"
   ]
  },
  {
   "cell_type": "raw",
   "metadata": {
    "id": "iV-FdQmf320O"
   },
   "source": [
    "os.environ[\"GOOGLE_APPLICATION_CREDENTIALS\"] = os.path.join(cwd, \"GCP/xxx.json\")"
   ]
  },
  {
   "cell_type": "raw",
   "metadata": {
    "id": "XZj619465EEF"
   },
   "source": [
    "# Imports the Google Cloud Translation library\n",
    "from google.cloud import translate\n",
    "import re\n",
    "\n",
    "\n",
    "# Initialize Translation client\n",
    "def translate_text_gcp(text, src=\"en-US\", dst=\"fr\", project_id=\"deep-studios-auto-dub\"):\n",
    "    \"\"\"Translating Text.\"\"\"\n",
    "\n",
    "    client = translate.TranslationServiceClient()\n",
    "\n",
    "    location = \"global\"\n",
    "\n",
    "    parent = f\"projects/{project_id}/locations/{location}\"\n",
    "\n",
    "    # Translate text from English to French\n",
    "    # Detail on supported types can be found here:\n",
    "    # https://cloud.google.com/translate/docs/supported-formats\n",
    "    response = client.translate_text(\n",
    "        request={\n",
    "            \"parent\": parent,\n",
    "            \"contents\": [text],\n",
    "            \"mime_type\": \"text/plain\",  # mime types: text/plain, text/html\n",
    "            \"source_language_code\": src,\n",
    "            \"target_language_code\": dst,\n",
    "        }\n",
    "    )\n",
    "\n",
    "    # Display the translation for each input text provided\n",
    "    translations = []\n",
    "    for translation in response.translations:\n",
    "        #print(\"Translated text: {}\".format(translation.translated_text))\n",
    "        translations.append(translation.translated_text)\n",
    "\n",
    "    translated_text =  \". \".join(translations)\n",
    "    translated_text = re.sub(' +', ' ', translated_text)\n",
    "\n",
    "    return translated_text"
   ]
  },
  {
   "cell_type": "raw",
   "metadata": {
    "colab": {
     "base_uri": "https://localhost:8080/",
     "height": 35
    },
    "id": "VDwOq6935Mll",
    "outputId": "37bc7a28-7440-4393-ffee-72e3b5d7a99b"
   },
   "source": [
    "translate_text_gcp(\"Hello, World\")"
   ]
  },
  {
   "cell_type": "markdown",
   "metadata": {
    "id": "Q_hUsjUF3ZT8"
   },
   "source": [
    "## 1.3. Indic NLP"
   ]
  },
  {
   "cell_type": "code",
   "execution_count": null,
   "metadata": {
    "colab": {
     "base_uri": "https://localhost:8080/"
    },
    "id": "NfllJ2Gss2MG",
    "outputId": "6e1febdd-5135-4985-b73a-d9ef489a48e3"
   },
   "outputs": [],
   "source": [
    "!pip install indic-nlp-library\n",
    "!git clone https://github.com/anoopkunchukuttan/indic_nlp_resources.git\n",
    "!git clone https://github.com/anoopkunchukuttan/indic_nlp_library.git"
   ]
  },
  {
   "cell_type": "code",
   "execution_count": null,
   "metadata": {
    "id": "yd7nS_gmtUow"
   },
   "outputs": [],
   "source": [
    "import sys\n",
    "from indicnlp import common\n",
    "\n",
    "# The path to the local git repo for Indic NLP library\n",
    "INDIC_NLP_LIB_HOME=r\"indic_nlp_library\"\n",
    "\n",
    "# The path to the local git repo for Indic NLP Resources\n",
    "INDIC_NLP_RESOURCES=r\"indic_nlp_resources\"\n",
    "\n",
    "# Add library to Python path\n",
    "sys.path.append(r'{}\\src'.format(INDIC_NLP_LIB_HOME))\n",
    "\n",
    "# Set environment variable for resources folder\n",
    "common.set_resources_path(INDIC_NLP_RESOURCES)"
   ]
  },
  {
   "cell_type": "code",
   "execution_count": null,
   "metadata": {
    "id": "-QVf97QdtK_b"
   },
   "outputs": [],
   "source": [
    "from indicnlp.tokenize import sentence_tokenize"
   ]
  },
  {
   "cell_type": "markdown",
   "metadata": {
    "id": "iYQ3kBsdZDEI"
   },
   "source": [
    "## 1.4.Indic Trans - Translate"
   ]
  },
  {
   "cell_type": "code",
   "execution_count": null,
   "metadata": {
    "colab": {
     "base_uri": "https://localhost:8080/"
    },
    "id": "QcoRB_wJZHJz",
    "outputId": "b6fe83b1-f5fe-460b-e290-1b757974608b"
   },
   "outputs": [],
   "source": [
    "# clone the repo for running evaluation\n",
    "!git clone https://github.com/AI4Bharat/indicTrans.git\n",
    "%cd indicTrans\n",
    "# clone requirements repositories\n",
    "!git clone https://github.com/anoopkunchukuttan/indic_nlp_library.git\n",
    "!git clone https://github.com/anoopkunchukuttan/indic_nlp_resources.git\n",
    "!git clone https://github.com/rsennrich/subword-nmt.git\n",
    "%cd .."
   ]
  },
  {
   "cell_type": "code",
   "execution_count": null,
   "metadata": {
    "colab": {
     "base_uri": "https://localhost:8080/"
    },
    "id": "FL0HK4a8ZXqG",
    "outputId": "a65aa796-7a4b-4519-e0cf-81c7befedb73"
   },
   "outputs": [],
   "source": [
    "# Install the necessary libraries\n",
    "!pip install sacremoses pandas mock sacrebleu tensorboardX pyarrow indic-nlp-library\n",
    "! pip install mosestokenizer subword-nmt\n",
    "# Install fairseq from source\n",
    "!git clone https://github.com/pytorch/fairseq.git\n",
    "%cd fairseq\n",
    "# !git checkout da9eaba12d82b9bfc1442f0e2c6fc1b895f4d35d\n",
    "!pip install --editable ./\n",
    "\n",
    "%cd .."
   ]
  },
  {
   "cell_type": "raw",
   "metadata": {
    "id": "rXShdGodZenY"
   },
   "source": [
    "# this step is only required if you are running the code on colab\n",
    "# restart the runtime after running prev cell (to update). See this -> https://stackoverflow.com/questions/57838013/modulenotfounderror-after-successful-pip-install-in-google-colaboratory\n",
    "\n",
    "# this import will not work without restarting runtime\n",
    "from fairseq import checkpoint_utils, distributed_utils, options, tasks, utils"
   ]
  },
  {
   "cell_type": "code",
   "execution_count": null,
   "metadata": {
    "colab": {
     "base_uri": "https://localhost:8080/"
    },
    "id": "_YvKZ5jeZtMc",
    "outputId": "67c16033-1f40-4c55-e615-00d98078793e"
   },
   "outputs": [],
   "source": [
    "# download the indictrans model\n",
    "\n",
    "# downloading the indic-en model\n",
    "!wget https://storage.googleapis.com/samanantar-public/V0.2/models/indic-en.zip\n",
    "!unzip indic-en.zip\n",
    "\n",
    "# downloading the en-indic model\n",
    "!wget https://storage.googleapis.com/samanantar-public/V0.2/models/en-indic.zip\n",
    "!unzip en-indic.zip\n",
    "\n",
    "# # downloading the indic-indic model\n",
    "#!wget https://storage.googleapis.com/samanantar-public/V0.3/models/m2m.zip\n",
    "#!unzip m2m.zip"
   ]
  },
  {
   "cell_type": "code",
   "execution_count": null,
   "metadata": {},
   "outputs": [],
   "source": [
    "%cd indicTrans"
   ]
  },
  {
   "cell_type": "code",
   "execution_count": null,
   "metadata": {
    "colab": {
     "base_uri": "https://localhost:8080/"
    },
    "id": "aOR3pudxaCkc",
    "outputId": "cbfa6001-9fdc-4e8c-e79b-4c610a25259b"
   },
   "outputs": [],
   "source": [
    "from indicTrans.inference.engine import Model\n",
    "\n",
    "indic2en_model = Model(expdir='../indic-en')\n",
    "en2indic_model = Model(expdir='../en-indic')"
   ]
  },
  {
   "cell_type": "code",
   "execution_count": null,
   "metadata": {
    "id": "dhLmzH4Pig8s"
   },
   "outputs": [],
   "source": [
    "def translate_text_indic(text, src=\"en\", dst=\"ta\"):\n",
    "    \n",
    "    if text.isnumeric():\n",
    "        return text\n",
    "\n",
    "    if src == 'en':\n",
    "        model = en2indic_model\n",
    "    else:\n",
    "        model = indic2en_model\n",
    "\n",
    "    translated_text = model.translate_paragraph(text, src, dst)\n",
    "    \n",
    "    return translated_text"
   ]
  },
  {
   "cell_type": "raw",
   "metadata": {},
   "source": [
    "%cd fairseq"
   ]
  },
  {
   "cell_type": "raw",
   "metadata": {},
   "source": [
    "!python setup.py build_ext --inplace"
   ]
  },
  {
   "cell_type": "code",
   "execution_count": null,
   "metadata": {
    "colab": {
     "base_uri": "https://localhost:8080/"
    },
    "id": "jlrkM8TpaEjr",
    "outputId": "e3ad5bb5-df64-4cfd-9176-0c9de36db28f"
   },
   "outputs": [],
   "source": [
    "ta_sents = ['அவனுக்கு நம்மைப் தெரியும் என்று தோன்றுகிறது',\n",
    "            \"இது எங்கே இருக்கு என்று என்னால் கண்டுபிடிக்க முடியவில்லை.\",\n",
    "            'உங்களுக்கு உங்கள் அருகில் இருக்கும் ஒருவருக்கோ இத்தகைய அறிகுறிகள் தென்பட்டால், வீட்டிலேயே இருப்பது, கொரோனா வைரஸ் தொற்று பிறருக்கு வராமல் தடுக்க உதவும்.']\n",
    "\n",
    "\n",
    "indic2en_model.batch_translate(ta_sents, 'ta', 'en')"
   ]
  },
  {
   "cell_type": "code",
   "execution_count": null,
   "metadata": {
    "colab": {
     "base_uri": "https://localhost:8080/",
     "height": 140
    },
    "id": "d1MOiSkZdv7w",
    "outputId": "91f498e5-1a73-46d1-e374-7c6636da7e96"
   },
   "outputs": [],
   "source": [
    "indic2en_model.translate_paragraph(ta_sents[0], 'ta', 'en')"
   ]
  },
  {
   "cell_type": "markdown",
   "metadata": {
    "id": "50YFecOs8MMS"
   },
   "source": [
    "## 1.5 Indic Trans - Transliterate"
   ]
  },
  {
   "cell_type": "code",
   "execution_count": null,
   "metadata": {
    "colab": {
     "base_uri": "https://localhost:8080/"
    },
    "id": "B8vNkwNo8PH6",
    "outputId": "c6d09770-e5e1-473c-d4cc-aba903f3c164"
   },
   "outputs": [],
   "source": [
    "!git clone https://github.com/libindic/indic-trans.git"
   ]
  },
  {
   "cell_type": "code",
   "execution_count": null,
   "metadata": {
    "id": "cKM37Lov83qC"
   },
   "outputs": [],
   "source": [
    "%cd indic-trans\n",
    "!pip install -r requirements.txt\n",
    "!python setup.py install"
   ]
  },
  {
   "cell_type": "code",
   "execution_count": null,
   "metadata": {},
   "outputs": [],
   "source": [
    "%cd .."
   ]
  },
  {
   "cell_type": "code",
   "execution_count": null,
   "metadata": {
    "colab": {
     "base_uri": "https://localhost:8080/"
    },
    "id": "4ruKA4MO_NYY",
    "outputId": "b45e55aa-387d-4753-f024-2da357144124"
   },
   "outputs": [],
   "source": [
    "from indictrans import Transliterator\n",
    "trn = Transliterator(source='eng', target='tam', build_lookup=True)\n",
    "hin = \"\"\"Sheikh Hamdan bin Zayed Al Nahyan, Ruler's Representative in Al Dhafra Region, attended the opening of the International Atomic Energy Agency's (IAEA) ConvEx-3 'Barakah UAE', which is aimed to test the global emergency response system for a severe accident simulated at the Barakah nuclear power plant.\n",
    "\n",
    "During the exercise, 75 member states and 12 international organisations are participating to evaluate their emergency response actions in order to identify good practices and highlight areas needing improvement.\"\"\"\n",
    "eng = trn.transform(hin)\n",
    "print(eng)"
   ]
  },
  {
   "cell_type": "markdown",
   "metadata": {
    "id": "tnJYcuxo4pBr"
   },
   "source": [
    "# 2. Translate"
   ]
  },
  {
   "cell_type": "markdown",
   "metadata": {
    "id": "lCs1NogjioNt"
   },
   "source": [
    "## 2.1 To English"
   ]
  },
  {
   "cell_type": "code",
   "execution_count": null,
   "metadata": {
    "colab": {
     "base_uri": "https://localhost:8080/"
    },
    "id": "JlB4cde3jsRT",
    "outputId": "9c242ea3-050b-408f-a254-720546cd1db2"
   },
   "outputs": [],
   "source": [
    "translator = 'indic'\n",
    "if translator == 'gcp':\n",
    "    translate_text = translate_text_gcp\n",
    "elif translator == 'indic':\n",
    "    translate_text = translate_text_indic\n",
    "else:\n",
    "    raise ValueError()\n",
    "\n",
    "    \n",
    "def clean_text(text):\n",
    "    words = [word for word, tag in nltk.pos_tag(nltk.word_tokenize(text)) if tag[0]=='N']\n",
    "    if len(words) >= 1:\n",
    "        cleaned_text = \" \".join(words)\n",
    "    else:\n",
    "        cleaned_text = text\n",
    "    return cleaned_text"
   ]
  },
  {
   "cell_type": "code",
   "execution_count": null,
   "metadata": {
    "id": "8QoR5gD17QT5"
   },
   "outputs": [],
   "source": [
    "def translate_row_en(row, target_lang):\n",
    "\n",
    "    answer_text_original = row['answer_text']\n",
    "\n",
    "    row['question'] = translate_text(text=row['question'], src=row['src'], dst=target_lang)\n",
    "    row['answer_text'] = translate_text(text=row['answer_text'], src=row['src'], dst=target_lang)\n",
    "\n",
    "    # split into sentences, translate and identify the sentence id with answer\n",
    "    sentences = sentence_tokenize.sentence_split(row['context'], row['src'], delim_pat='auto')\n",
    "    running_len = 0\n",
    "    translated_context = \"\"\n",
    "    start_found = False\n",
    "    for i, sentence in enumerate(sentences):\n",
    "        result = translate_text(text=sentence, src=row['src'], dst=target_lang)\n",
    "        \n",
    "        if not start_found:\n",
    "            running_len += len(sentence)\n",
    "            if row['answer_start'] < running_len: # if this sentence has the answer_text\n",
    "                start_in_sent = result.lower().find(row['answer_text'].lower())\n",
    "                if start_in_sent != -1: # if there is an exact match of the answer\n",
    "                    row['answer_text_cleaned'] = row['answer_text']\n",
    "                    row['answer_start'] = len(translated_context) + start_in_sent\n",
    "                else: # if there is not an exact match of the answer\n",
    "                    row['answer_text_cleaned'] = clean_text(row['answer_text'])\n",
    "                    start_in_sent_cleaned = result.lower().find(row['answer_text_cleaned'].lower())\n",
    "                    if start_in_sent_cleaned != -1: # if there is an exact match of the cleaned answer\n",
    "                        row['exact_match'] = 0\n",
    "                        row['answer_start'] = len(translated_context) + start_in_sent_cleaned\n",
    "                    else: # if there is not an exact match of the cleaned answer\n",
    "                        row['exact_match'] = -1\n",
    "                        row['answer_start'] = len(translated_context)\n",
    "                start_found = True\n",
    "\n",
    "        translated_context = translated_context + result + \" \"\n",
    "\n",
    "    row['context'] = translated_context.strip()\n",
    "\n",
    "    return row"
   ]
  },
  {
   "cell_type": "code",
   "execution_count": null,
   "metadata": {
    "colab": {
     "base_uri": "https://localhost:8080/",
     "height": 1000,
     "referenced_widgets": [
      "54071addc66f407094cce44e649552a4",
      "5c0958c103924174b4c090a11a6ad62d",
      "075bcf8fe04643db9ac4959240266a71",
      "b566465241354371af8307ddec15bc95",
      "c99a4460fe034365be3298e17dbc761a",
      "3a2bdd85752648e299d4fd38672d3a59",
      "c223ec982fe04636ba096b37e8305348",
      "d0c8e932a92f41de88a0558b6ad29932",
      "c7b6ed5f031d4d89a56adb3caf7407b0",
      "f148e63880ef4185b8bb02e3042c6a86",
      "6749282115c5461b8b984676312d3539"
     ]
    },
    "id": "JyGr6jlM3EVo",
    "outputId": "4b43a088-3ad0-44d3-cde9-7c501718765d"
   },
   "outputs": [],
   "source": [
    "trans_aug = {}\n",
    "target_lang = 'en'\n",
    "trans_aug[target_lang] = data.copy()\n",
    "trans_aug[target_lang]['exact_match'] = 1\n",
    "trans_aug[target_lang]['answer_text_cleaned'] = trans_aug[target_lang]['answer_text'].copy()\n",
    "trans_aug[target_lang] = trans_aug[target_lang].progress_apply(lambda row: translate_row_en(row, target_lang), axis=1)\n",
    "trans_aug[target_lang]['src'] = target_lang"
   ]
  },
  {
   "cell_type": "code",
   "execution_count": null,
   "metadata": {
    "id": "j1BH91oqZJV7"
   },
   "outputs": [],
   "source": [
    "trans_aug['en']['exact_match'].value_counts()"
   ]
  },
  {
   "cell_type": "code",
   "execution_count": null,
   "metadata": {
    "id": "yUZ4KfPWZUcZ"
   },
   "outputs": [],
   "source": [
    "filter = trans_aug['en']['exact_match'] != -1\n",
    "trans_aug['en'] = trans_aug['en'][filter]"
   ]
  },
  {
   "cell_type": "code",
   "execution_count": null,
   "metadata": {
    "id": "HnYVybBxjq9Q"
   },
   "outputs": [],
   "source": [
    "trans_aug['en']['answer_text_final'] = trans_aug['en']['answer_text'].where(trans_aug['en']['exact_match'] == 1, trans_aug['en']['answer_text_cleaned'])"
   ]
  },
  {
   "cell_type": "code",
   "execution_count": null,
   "metadata": {
    "id": "pgN52suqkGEg"
   },
   "outputs": [],
   "source": [
    "trans_aug['en'].head()"
   ]
  },
  {
   "cell_type": "code",
   "execution_count": null,
   "metadata": {
    "id": "m26C8I2Bai6P"
   },
   "outputs": [],
   "source": [
    "trans_aug['en'].to_csv(os.path.join(cwd, f\"Data/raw_train_en.csv\"), index=False)"
   ]
  },
  {
   "cell_type": "code",
   "execution_count": null,
   "metadata": {
    "id": "fYt6w5h9lIeE"
   },
   "outputs": [],
   "source": [
    "trans_aug['en']['answer_text'] = trans_aug['en']['answer_text_final'].copy()\n",
    "trans_aug['en'] = trans_aug['en'].drop(columns=['answer_text_cleaned', 'answer_text_final'])\n",
    "trans_aug['en'] = trans_aug['en'].rename(columns={'src': 'language'})\n",
    "trans_aug['en'].to_csv(os.path.join(cwd, f\"Data/train_en.csv\"), index=False)"
   ]
  },
  {
   "cell_type": "code",
   "execution_count": null,
   "metadata": {
    "id": "087O1-X4l4zM"
   },
   "outputs": [],
   "source": [
    "trans_aug['en']"
   ]
  },
  {
   "cell_type": "markdown",
   "metadata": {
    "id": "LSbfW0QOi4ku"
   },
   "source": [
    "## 2.2 To other languages"
   ]
  },
  {
   "cell_type": "code",
   "execution_count": null,
   "metadata": {},
   "outputs": [],
   "source": [
    "trans_aug['en'] = trans_aug['en'].rename(columns={'language': 'src'})"
   ]
  },
  {
   "cell_type": "code",
   "execution_count": null,
   "metadata": {
    "id": "5LSA-ytVh8Pq"
   },
   "outputs": [],
   "source": [
    "def translate_row(row, target_lang):\n",
    "\n",
    "    answer_text_original = row['answer_text']\n",
    "\n",
    "    row['question'] = translate_text(text=row['question'], src=row['src'], dst=target_lang)\n",
    "    row['answer_text'] = translate_text(text=row['answer_text'], src=row['src'], dst=target_lang)\n",
    "\n",
    "    # split into sentences, translate and identify the sentence id with answer\n",
    "    sentences = sentence_tokenize.sentence_split(row['context'], row['src'], delim_pat='auto')\n",
    "    running_len = 0\n",
    "    translated_context = \"\"\n",
    "    start_found = False\n",
    "    for i, sentence in enumerate(sentences):\n",
    "        result = translate_text(text=sentence, src=row['src'], dst=target_lang)\n",
    "        \n",
    "        if not start_found:\n",
    "            running_len += len(sentence)\n",
    "            if row['answer_start'] < running_len: # if this sentence has the answer_text\n",
    "                start_in_sent = result.lower().find(row['answer_text'].lower())\n",
    "                if start_in_sent != -1: # if there is an exact match of the answer\n",
    "                    row['answer_text_cleaned'] = row['answer_text']\n",
    "                    row['answer_start'] = len(translated_context) + start_in_sent\n",
    "                else: # if there is not an exact match of the answer\n",
    "                    row['answer_text_cleaned'] = clean_text(row['answer_text'])\n",
    "                    start_in_sent_cleaned = result.lower().find(row['answer_text_cleaned'].lower())\n",
    "                    if start_in_sent_cleaned != -1: # if there is an exact match of the cleaned answer\n",
    "                        row['exact_match'] = 0\n",
    "                        row['answer_start'] = len(translated_context) + start_in_sent_cleaned\n",
    "                    else: # if there is not an exact match of the cleaned answer\n",
    "                        row['exact_match'] = -1\n",
    "                        row['answer_start'] = len(translated_context)\n",
    "                start_found = True\n",
    "\n",
    "        translated_context = translated_context + result + \" \"\n",
    "\n",
    "    row['context'] = translated_context.strip()\n",
    "\n",
    "    return row"
   ]
  },
  {
   "cell_type": "code",
   "execution_count": null,
   "metadata": {
    "id": "Raeqf46-SocR"
   },
   "outputs": [],
   "source": [
    "meta_data = {}\n",
    "target_langs = ['ta', 'ml', 'te', 'hi', 'mr', 'bn']\n",
    "for target_lang in tqdm(target_langs):\n",
    "    trans_aug[target_lang] = trans_aug['en'].copy()\n",
    "    trans_aug[target_lang]['exact_match'] = 1\n",
    "    trans_aug[target_lang]['answer_text_cleaned'] = trans_aug[target_lang]['answer_text'].copy()\n",
    "    trans_aug[target_lang] = trans_aug[target_lang].progress_apply(lambda row: translate_row(row, target_lang), axis=1)\n",
    "    trans_aug[target_lang]['src'] = target_lang\n",
    "\n",
    "    meta_data[target_lang] = trans_aug[target_lang]['exact_match'].value_counts()\n",
    "    filter = trans_aug[target_lang]['exact_match'] != -1\n",
    "    trans_aug[target_lang] = trans_aug[target_lang][filter]\n",
    "\n",
    "    trans_aug[target_lang]['answer_text_final'] = trans_aug[target_lang]['answer_text'].where(trans_aug[target_lang]['exact_match'] == 1, trans_aug[target_lang]['answer_text_cleaned'])\n",
    "\n",
    "    trans_aug[target_lang]['answer_text'] = trans_aug[target_lang]['answer_text_final'].copy()\n",
    "    trans_aug[target_lang] = trans_aug[target_lang].drop(columns=['answer_text_cleaned', 'answer_text_final'])\n",
    "    trans_aug[target_lang] = trans_aug[target_lang].rename(columns={'src': 'language'})\n",
    "    trans_aug[target_lang].to_csv(os.path.join(cwd, f\"Data/train_{target_lang}.csv\"), index=False)\n"
   ]
  },
  {
   "cell_type": "code",
   "execution_count": null,
   "metadata": {
    "id": "vITn_d_WYGan"
   },
   "outputs": [],
   "source": [
    "meta_df = pd.DataFrame(meta_data).fillna(0)\n",
    "meta_df"
   ]
  },
  {
   "cell_type": "markdown",
   "metadata": {
    "id": "PADP-Xw_u1ZY"
   },
   "source": [
    "## 2.3 Format output"
   ]
  },
  {
   "cell_type": "code",
   "execution_count": null,
   "metadata": {
    "id": "X3g7Tayu7jAy"
   },
   "outputs": [],
   "source": [
    "data_dir = os.path.join(cwd, 'Data')\n",
    "final_df = pd.read_csv(os.path.join(data_dir, 'train.csv'))\n",
    "final_df['is_original'] = True\n",
    "\n",
    "langs = ['en', 'ta', 'ml', 'te', 'hi', 'mr', 'bn']\n",
    "for lang in langs:\n",
    "    lang_df = pd.read_csv(os.path.join(data_dir, f'train_{lang}.csv'))\n",
    "    lang_df = lang_df.drop(columns=['exact_match'])\n",
    "    lang_df['is_original'] = False\n",
    "    final_df = pd.concat([final_df, lang_df], ignore_index=True)\n",
    "\n",
    "final_df"
   ]
  },
  {
   "cell_type": "code",
   "execution_count": null,
   "metadata": {},
   "outputs": [],
   "source": [
    "final_df['language'].value_counts()"
   ]
  },
  {
   "cell_type": "code",
   "execution_count": null,
   "metadata": {
    "id": "GsCaYbbfvS9h"
   },
   "outputs": [],
   "source": [
    "final_df.to_csv(os.path.join(cwd, f\"Data/train_trans_augmented.csv\"), index=False)"
   ]
  },
  {
   "cell_type": "markdown",
   "metadata": {},
   "source": [
    "# 3. Transliterate"
   ]
  },
  {
   "cell_type": "code",
   "execution_count": null,
   "metadata": {},
   "outputs": [],
   "source": [
    "import pandas as pd\n",
    "import re\n",
    "import os\n",
    "\n",
    "cwd = \"~/Desktop/chaii\"\n",
    "\n",
    "data = pd.read_csv(os.path.join(cwd, 'Data/train.csv'))\n",
    "#data = data.head()\n",
    "data['src'] = data['language'].str[:2]\n",
    "data = data.drop(columns=['language'])\n",
    "print(data.shape)\n",
    "data.head()"
   ]
  },
  {
   "cell_type": "code",
   "execution_count": null,
   "metadata": {},
   "outputs": [],
   "source": [
    "lang_code_map = {\n",
    "    'en': 'eng',\n",
    "    'ta': 'tam',\n",
    "    'ml': 'mal',\n",
    "    'te': 'tel',\n",
    "    'hi': 'hin',\n",
    "    'mr': 'mar',\n",
    "    'bn': 'ben',\n",
    "}"
   ]
  },
  {
   "cell_type": "code",
   "execution_count": null,
   "metadata": {},
   "outputs": [],
   "source": [
    "def remove_non_nouns(text):\n",
    "    words = [word for word, tag in nltk.pos_tag(nltk.word_tokenize(text)) if tag[0]=='N']\n",
    "    if len(words) >= 1:\n",
    "        cleaned_text = \" \".join(words)\n",
    "    else:\n",
    "        cleaned_text = text\n",
    "    return cleaned_text"
   ]
  },
  {
   "cell_type": "code",
   "execution_count": null,
   "metadata": {},
   "outputs": [],
   "source": [
    "def transliterate_text(text, src=\"ta\"):\n",
    "    \n",
    "    global tlits # target language is alrady setup in these models\n",
    "    \n",
    "    if text.isnumeric():\n",
    "        return text\n",
    "    \n",
    "    if tlits[src] is not None:\n",
    "        return tlits[src].transform(text)\n",
    "    \n",
    "    return text"
   ]
  },
  {
   "cell_type": "code",
   "execution_count": null,
   "metadata": {},
   "outputs": [],
   "source": [
    "def transliterate_row(row, target_lang):\n",
    "\n",
    "    answer_text_original = row['answer_text']\n",
    "\n",
    "    row['question'] = transliterate_text(text=row['question'], src=row['src'])\n",
    "    row['answer_text'] = transliterate_text(text=row['answer_text'], src=row['src'])\n",
    "\n",
    "    # split into sentences, translate and identify the sentence id with answer\n",
    "    sentences = sentence_tokenize.sentence_split(row['context'], row['src'], delim_pat='auto')\n",
    "    running_len = 0\n",
    "    transliterated_context = \"\"\n",
    "    start_found = False\n",
    "    for i, sentence in enumerate(sentences):\n",
    "        result = transliterate_text(text=sentence, src=row['src'])\n",
    "        \n",
    "        if not start_found:\n",
    "            running_len += len(sentence)\n",
    "            if row['answer_start'] < running_len: # if this sentence has the answer_text\n",
    "                start_in_sent = result.lower().find(row['answer_text'].lower())\n",
    "                if start_in_sent != -1: # if there is an exact match of the answer\n",
    "                    row['answer_text_cleaned'] = row['answer_text']\n",
    "                    row['answer_start'] = len(transliterated_context) + start_in_sent\n",
    "                else: # if there is not an exact match of the answer\n",
    "                    row['answer_text_cleaned'] = remove_non_nouns(row['answer_text'])\n",
    "                    start_in_sent_cleaned = result.lower().find(row['answer_text_cleaned'].lower())\n",
    "                    if start_in_sent_cleaned != -1: # if there is an exact match of the cleaned answer\n",
    "                        row['exact_match'] = 0\n",
    "                        row['answer_start'] = len(transliterated_context) + start_in_sent_cleaned\n",
    "                    else: # if there is not an exact match of the cleaned answer\n",
    "                        row['exact_match'] = -1\n",
    "                        row['answer_start'] = len(transliterated_context)\n",
    "                start_found = True\n",
    "\n",
    "        transliterated_context = transliterated_context + result + \" \"\n",
    "\n",
    "    row['context'] = transliterated_context.strip()\n",
    "\n",
    "    return row"
   ]
  },
  {
   "cell_type": "code",
   "execution_count": null,
   "metadata": {},
   "outputs": [],
   "source": [
    "meta_data = {}\n",
    "trans_aug = {}\n",
    "source_langs = ['ta', 'hi']\n",
    "target_langs = ['en', 'ta', 'ml', 'te', 'hi', 'mr', 'bn']\n",
    "for target_lang in tqdm(target_langs):\n",
    "    \n",
    "    tlits = {}\n",
    "    for source_lang in source_langs:\n",
    "        if source_lang != target_lang:\n",
    "            tlits[source_lang] = Transliterator(source=lang_code_map[source_lang], target=lang_code_map[target_lang], build_lookup=True)\n",
    "        else:\n",
    "            tlits[source_lang] = None\n",
    "    \n",
    "    trans_aug[target_lang] = data.copy()\n",
    "    trans_aug[target_lang]['exact_match'] = 1\n",
    "    trans_aug[target_lang]['answer_text_cleaned'] = trans_aug[target_lang]['answer_text'].copy()\n",
    "    trans_aug[target_lang] = trans_aug[target_lang].progress_apply(lambda row: transliterate_row(row, target_lang), axis=1)\n",
    "    trans_aug[target_lang]['tgt'] = target_lang\n",
    "\n",
    "    meta_data[target_lang] = trans_aug[target_lang]['exact_match'].value_counts()\n",
    "    filter = trans_aug[target_lang]['exact_match'] != -1\n",
    "    trans_aug[target_lang] = trans_aug[target_lang][filter]\n",
    "\n",
    "    trans_aug[target_lang]['answer_text_final'] = trans_aug[target_lang]['answer_text'].where(trans_aug[target_lang]['exact_match'] == 1, trans_aug[target_lang]['answer_text_cleaned'])\n",
    "    trans_aug[target_lang]['answer_text'] = trans_aug[target_lang]['answer_text_final'].copy()\n",
    "    trans_aug[target_lang] = trans_aug[target_lang].drop(columns=['answer_text_cleaned', 'answer_text_final'])\n",
    "    trans_aug[target_lang].to_csv(os.path.join(cwd, f\"Data/train_{target_lang}_tlit.csv\"), index=False)\n"
   ]
  },
  {
   "cell_type": "code",
   "execution_count": null,
   "metadata": {},
   "outputs": [],
   "source": [
    "meta_df = pd.DataFrame(meta_data).fillna(0)\n",
    "meta_df"
   ]
  },
  {
   "cell_type": "code",
   "execution_count": null,
   "metadata": {},
   "outputs": [],
   "source": [
    "data_dir = os.path.join(cwd, 'Data')\n",
    "final_df = pd.read_csv(os.path.join(data_dir, 'train.csv'))\n",
    "final_df = final_df.rename(columns={'language':'src'})\n",
    "final_df['tgt'] = final_df['src'].copy()\n",
    "final_df['is_original'] = True\n",
    "\n",
    "langs = ['en', 'ta', 'ml', 'te', 'hi', 'mr', 'bn']\n",
    "for lang in langs:\n",
    "    lang_df = pd.read_csv(os.path.join(data_dir, f'train_{lang}_tlit.csv'))\n",
    "    lang_df = lang_df.drop(columns=['exact_match'])\n",
    "    lang_df['is_original'] = False\n",
    "    final_df = pd.concat([final_df, lang_df], ignore_index=True)\n",
    "\n",
    "final_df"
   ]
  },
  {
   "cell_type": "code",
   "execution_count": null,
   "metadata": {},
   "outputs": [],
   "source": [
    "final_df['tgt'].value_counts()"
   ]
  },
  {
   "cell_type": "code",
   "execution_count": null,
   "metadata": {},
   "outputs": [],
   "source": [
    "final_df.to_csv(os.path.join(cwd, f\"Data/train_trans_augmented_tlit.csv\"), index=False)"
   ]
  },
  {
   "cell_type": "code",
   "execution_count": null,
   "metadata": {},
   "outputs": [],
   "source": []
  }
 ],
 "metadata": {
  "accelerator": "GPU",
  "colab": {
   "collapsed_sections": [],
   "name": "Chaii - Trans Augmentation.ipynb",
   "provenance": [],
   "toc_visible": true
  },
  "kernelspec": {
   "display_name": "chaii-venv",
   "language": "python",
   "name": "chaii-venv"
  },
  "language_info": {
   "codemirror_mode": {
    "name": "ipython",
    "version": 3
   },
   "file_extension": ".py",
   "mimetype": "text/x-python",
   "name": "python",
   "nbconvert_exporter": "python",
   "pygments_lexer": "ipython3",
   "version": "3.8.5"
  },
  "widgets": {
   "application/vnd.jupyter.widget-state+json": {
    "075bcf8fe04643db9ac4959240266a71": {
     "model_module": "@jupyter-widgets/controls",
     "model_module_version": "1.5.0",
     "model_name": "HTMLModel",
     "state": {
      "_dom_classes": [],
      "_model_module": "@jupyter-widgets/controls",
      "_model_module_version": "1.5.0",
      "_model_name": "HTMLModel",
      "_view_count": null,
      "_view_module": "@jupyter-widgets/controls",
      "_view_module_version": "1.5.0",
      "_view_name": "HTMLView",
      "description": "",
      "description_tooltip": null,
      "layout": "IPY_MODEL_c223ec982fe04636ba096b37e8305348",
      "placeholder": "​",
      "style": "IPY_MODEL_3a2bdd85752648e299d4fd38672d3a59",
      "value": " 11%"
     }
    },
    "3a2bdd85752648e299d4fd38672d3a59": {
     "model_module": "@jupyter-widgets/controls",
     "model_module_version": "1.5.0",
     "model_name": "DescriptionStyleModel",
     "state": {
      "_model_module": "@jupyter-widgets/controls",
      "_model_module_version": "1.5.0",
      "_model_name": "DescriptionStyleModel",
      "_view_count": null,
      "_view_module": "@jupyter-widgets/base",
      "_view_module_version": "1.2.0",
      "_view_name": "StyleView",
      "description_width": ""
     }
    },
    "54071addc66f407094cce44e649552a4": {
     "model_module": "@jupyter-widgets/controls",
     "model_module_version": "1.5.0",
     "model_name": "HBoxModel",
     "state": {
      "_dom_classes": [],
      "_model_module": "@jupyter-widgets/controls",
      "_model_module_version": "1.5.0",
      "_model_name": "HBoxModel",
      "_view_count": null,
      "_view_module": "@jupyter-widgets/controls",
      "_view_module_version": "1.5.0",
      "_view_name": "HBoxView",
      "box_style": "",
      "children": [
       "IPY_MODEL_075bcf8fe04643db9ac4959240266a71",
       "IPY_MODEL_b566465241354371af8307ddec15bc95",
       "IPY_MODEL_c99a4460fe034365be3298e17dbc761a"
      ],
      "layout": "IPY_MODEL_5c0958c103924174b4c090a11a6ad62d"
     }
    },
    "5c0958c103924174b4c090a11a6ad62d": {
     "model_module": "@jupyter-widgets/base",
     "model_module_version": "1.2.0",
     "model_name": "LayoutModel",
     "state": {
      "_model_module": "@jupyter-widgets/base",
      "_model_module_version": "1.2.0",
      "_model_name": "LayoutModel",
      "_view_count": null,
      "_view_module": "@jupyter-widgets/base",
      "_view_module_version": "1.2.0",
      "_view_name": "LayoutView",
      "align_content": null,
      "align_items": null,
      "align_self": null,
      "border": null,
      "bottom": null,
      "display": null,
      "flex": null,
      "flex_flow": null,
      "grid_area": null,
      "grid_auto_columns": null,
      "grid_auto_flow": null,
      "grid_auto_rows": null,
      "grid_column": null,
      "grid_gap": null,
      "grid_row": null,
      "grid_template_areas": null,
      "grid_template_columns": null,
      "grid_template_rows": null,
      "height": null,
      "justify_content": null,
      "justify_items": null,
      "left": null,
      "margin": null,
      "max_height": null,
      "max_width": null,
      "min_height": null,
      "min_width": null,
      "object_fit": null,
      "object_position": null,
      "order": null,
      "overflow": null,
      "overflow_x": null,
      "overflow_y": null,
      "padding": null,
      "right": null,
      "top": null,
      "visibility": null,
      "width": null
     }
    },
    "6749282115c5461b8b984676312d3539": {
     "model_module": "@jupyter-widgets/base",
     "model_module_version": "1.2.0",
     "model_name": "LayoutModel",
     "state": {
      "_model_module": "@jupyter-widgets/base",
      "_model_module_version": "1.2.0",
      "_model_name": "LayoutModel",
      "_view_count": null,
      "_view_module": "@jupyter-widgets/base",
      "_view_module_version": "1.2.0",
      "_view_name": "LayoutView",
      "align_content": null,
      "align_items": null,
      "align_self": null,
      "border": null,
      "bottom": null,
      "display": null,
      "flex": null,
      "flex_flow": null,
      "grid_area": null,
      "grid_auto_columns": null,
      "grid_auto_flow": null,
      "grid_auto_rows": null,
      "grid_column": null,
      "grid_gap": null,
      "grid_row": null,
      "grid_template_areas": null,
      "grid_template_columns": null,
      "grid_template_rows": null,
      "height": null,
      "justify_content": null,
      "justify_items": null,
      "left": null,
      "margin": null,
      "max_height": null,
      "max_width": null,
      "min_height": null,
      "min_width": null,
      "object_fit": null,
      "object_position": null,
      "order": null,
      "overflow": null,
      "overflow_x": null,
      "overflow_y": null,
      "padding": null,
      "right": null,
      "top": null,
      "visibility": null,
      "width": null
     }
    },
    "b566465241354371af8307ddec15bc95": {
     "model_module": "@jupyter-widgets/controls",
     "model_module_version": "1.5.0",
     "model_name": "FloatProgressModel",
     "state": {
      "_dom_classes": [],
      "_model_module": "@jupyter-widgets/controls",
      "_model_module_version": "1.5.0",
      "_model_name": "FloatProgressModel",
      "_view_count": null,
      "_view_module": "@jupyter-widgets/controls",
      "_view_module_version": "1.5.0",
      "_view_name": "ProgressView",
      "bar_style": "danger",
      "description": "",
      "description_tooltip": null,
      "layout": "IPY_MODEL_c7b6ed5f031d4d89a56adb3caf7407b0",
      "max": 1114,
      "min": 0,
      "orientation": "horizontal",
      "style": "IPY_MODEL_d0c8e932a92f41de88a0558b6ad29932",
      "value": 127
     }
    },
    "c223ec982fe04636ba096b37e8305348": {
     "model_module": "@jupyter-widgets/base",
     "model_module_version": "1.2.0",
     "model_name": "LayoutModel",
     "state": {
      "_model_module": "@jupyter-widgets/base",
      "_model_module_version": "1.2.0",
      "_model_name": "LayoutModel",
      "_view_count": null,
      "_view_module": "@jupyter-widgets/base",
      "_view_module_version": "1.2.0",
      "_view_name": "LayoutView",
      "align_content": null,
      "align_items": null,
      "align_self": null,
      "border": null,
      "bottom": null,
      "display": null,
      "flex": null,
      "flex_flow": null,
      "grid_area": null,
      "grid_auto_columns": null,
      "grid_auto_flow": null,
      "grid_auto_rows": null,
      "grid_column": null,
      "grid_gap": null,
      "grid_row": null,
      "grid_template_areas": null,
      "grid_template_columns": null,
      "grid_template_rows": null,
      "height": null,
      "justify_content": null,
      "justify_items": null,
      "left": null,
      "margin": null,
      "max_height": null,
      "max_width": null,
      "min_height": null,
      "min_width": null,
      "object_fit": null,
      "object_position": null,
      "order": null,
      "overflow": null,
      "overflow_x": null,
      "overflow_y": null,
      "padding": null,
      "right": null,
      "top": null,
      "visibility": null,
      "width": null
     }
    },
    "c7b6ed5f031d4d89a56adb3caf7407b0": {
     "model_module": "@jupyter-widgets/base",
     "model_module_version": "1.2.0",
     "model_name": "LayoutModel",
     "state": {
      "_model_module": "@jupyter-widgets/base",
      "_model_module_version": "1.2.0",
      "_model_name": "LayoutModel",
      "_view_count": null,
      "_view_module": "@jupyter-widgets/base",
      "_view_module_version": "1.2.0",
      "_view_name": "LayoutView",
      "align_content": null,
      "align_items": null,
      "align_self": null,
      "border": null,
      "bottom": null,
      "display": null,
      "flex": null,
      "flex_flow": null,
      "grid_area": null,
      "grid_auto_columns": null,
      "grid_auto_flow": null,
      "grid_auto_rows": null,
      "grid_column": null,
      "grid_gap": null,
      "grid_row": null,
      "grid_template_areas": null,
      "grid_template_columns": null,
      "grid_template_rows": null,
      "height": null,
      "justify_content": null,
      "justify_items": null,
      "left": null,
      "margin": null,
      "max_height": null,
      "max_width": null,
      "min_height": null,
      "min_width": null,
      "object_fit": null,
      "object_position": null,
      "order": null,
      "overflow": null,
      "overflow_x": null,
      "overflow_y": null,
      "padding": null,
      "right": null,
      "top": null,
      "visibility": null,
      "width": null
     }
    },
    "c99a4460fe034365be3298e17dbc761a": {
     "model_module": "@jupyter-widgets/controls",
     "model_module_version": "1.5.0",
     "model_name": "HTMLModel",
     "state": {
      "_dom_classes": [],
      "_model_module": "@jupyter-widgets/controls",
      "_model_module_version": "1.5.0",
      "_model_name": "HTMLModel",
      "_view_count": null,
      "_view_module": "@jupyter-widgets/controls",
      "_view_module_version": "1.5.0",
      "_view_name": "HTMLView",
      "description": "",
      "description_tooltip": null,
      "layout": "IPY_MODEL_6749282115c5461b8b984676312d3539",
      "placeholder": "​",
      "style": "IPY_MODEL_f148e63880ef4185b8bb02e3042c6a86",
      "value": " 127/1114 [1:39:44&lt;10:41:59, 39.03s/it]"
     }
    },
    "d0c8e932a92f41de88a0558b6ad29932": {
     "model_module": "@jupyter-widgets/controls",
     "model_module_version": "1.5.0",
     "model_name": "ProgressStyleModel",
     "state": {
      "_model_module": "@jupyter-widgets/controls",
      "_model_module_version": "1.5.0",
      "_model_name": "ProgressStyleModel",
      "_view_count": null,
      "_view_module": "@jupyter-widgets/base",
      "_view_module_version": "1.2.0",
      "_view_name": "StyleView",
      "bar_color": null,
      "description_width": ""
     }
    },
    "f148e63880ef4185b8bb02e3042c6a86": {
     "model_module": "@jupyter-widgets/controls",
     "model_module_version": "1.5.0",
     "model_name": "DescriptionStyleModel",
     "state": {
      "_model_module": "@jupyter-widgets/controls",
      "_model_module_version": "1.5.0",
      "_model_name": "DescriptionStyleModel",
      "_view_count": null,
      "_view_module": "@jupyter-widgets/base",
      "_view_module_version": "1.2.0",
      "_view_name": "StyleView",
      "description_width": ""
     }
    }
   }
  }
 },
 "nbformat": 4,
 "nbformat_minor": 1
}
