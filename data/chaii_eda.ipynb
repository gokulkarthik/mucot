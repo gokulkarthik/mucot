{
 "cells": [
  {
   "cell_type": "code",
   "execution_count": 25,
   "metadata": {},
   "outputs": [],
   "source": [
    "import os\n",
    "import pandas as pd\n",
    "from tqdm.auto import tqdm"
   ]
  },
  {
   "cell_type": "code",
   "execution_count": 26,
   "metadata": {},
   "outputs": [],
   "source": [
    "### chaii\n",
    "data_dir = '../data/chaii/'\n",
    "train_df = pd.read_csv(os.path.join(data_dir, 'train.csv'))\n",
    "### chaii-trans\n",
    "data_dir_trans = '../data/chaii-trans/'\n",
    "train_translated_df = pd.read_csv(os.path.join(data_dir_trans, 'train_translated.csv'))\n",
    "train_transliterated_df = pd.read_csv(os.path.join(data_dir_trans, 'train_transliterated.csv'))"
   ]
  },
  {
   "cell_type": "code",
   "execution_count": 27,
   "metadata": {},
   "outputs": [],
   "source": [
    "k = 5"
   ]
  },
  {
   "cell_type": "code",
   "execution_count": 28,
   "metadata": {},
   "outputs": [],
   "source": [
    "def reformat_lang_chaii(lang):\n",
    "    if len(lang) > 3:\n",
    "        return lang[:2]\n",
    "    else:\n",
    "        return lang+'^'"
   ]
  },
  {
   "cell_type": "markdown",
   "metadata": {},
   "source": [
    "# Entire Data"
   ]
  },
  {
   "cell_type": "code",
   "execution_count": 60,
   "metadata": {},
   "outputs": [
    {
     "name": "stdout",
     "output_type": "stream",
     "text": [
      "(3728, 7)\n"
     ]
    },
    {
     "data": {
      "text/html": [
       "<div>\n",
       "<style scoped>\n",
       "    .dataframe tbody tr th:only-of-type {\n",
       "        vertical-align: middle;\n",
       "    }\n",
       "\n",
       "    .dataframe tbody tr th {\n",
       "        vertical-align: top;\n",
       "    }\n",
       "\n",
       "    .dataframe thead th {\n",
       "        text-align: right;\n",
       "    }\n",
       "</style>\n",
       "<table border=\"1\" class=\"dataframe\">\n",
       "  <thead>\n",
       "    <tr style=\"text-align: right;\">\n",
       "      <th>language</th>\n",
       "      <th>bn^</th>\n",
       "      <th>en^</th>\n",
       "      <th>hi</th>\n",
       "      <th>hi^</th>\n",
       "      <th>ml^</th>\n",
       "      <th>mr^</th>\n",
       "      <th>ta</th>\n",
       "      <th>ta^</th>\n",
       "      <th>te^</th>\n",
       "    </tr>\n",
       "    <tr>\n",
       "      <th>source_language</th>\n",
       "      <th></th>\n",
       "      <th></th>\n",
       "      <th></th>\n",
       "      <th></th>\n",
       "      <th></th>\n",
       "      <th></th>\n",
       "      <th></th>\n",
       "      <th></th>\n",
       "      <th></th>\n",
       "    </tr>\n",
       "  </thead>\n",
       "  <tbody>\n",
       "    <tr>\n",
       "      <th>hi</th>\n",
       "      <td>220.0</td>\n",
       "      <td>383.0</td>\n",
       "      <td>746.0</td>\n",
       "      <td>289.0</td>\n",
       "      <td>230.0</td>\n",
       "      <td>218.0</td>\n",
       "      <td>0.0</td>\n",
       "      <td>221.0</td>\n",
       "      <td>247.0</td>\n",
       "    </tr>\n",
       "    <tr>\n",
       "      <th>ta</th>\n",
       "      <td>70.0</td>\n",
       "      <td>182.0</td>\n",
       "      <td>0.0</td>\n",
       "      <td>133.0</td>\n",
       "      <td>110.0</td>\n",
       "      <td>78.0</td>\n",
       "      <td>368.0</td>\n",
       "      <td>117.0</td>\n",
       "      <td>116.0</td>\n",
       "    </tr>\n",
       "  </tbody>\n",
       "</table>\n",
       "</div>"
      ],
      "text/plain": [
       "language           bn^    en^     hi    hi^    ml^    mr^     ta    ta^    te^\n",
       "source_language                                                               \n",
       "hi               220.0  383.0  746.0  289.0  230.0  218.0    0.0  221.0  247.0\n",
       "ta                70.0  182.0    0.0  133.0  110.0   78.0  368.0  117.0  116.0"
      ]
     },
     "execution_count": 60,
     "metadata": {},
     "output_type": "execute_result"
    }
   ],
   "source": [
    "df = pd.read_csv(os.path.join(data_dir_trans, f'train_translated.csv'))\n",
    "df['language'] = df['language'].apply(reformat_lang_chaii)\n",
    "print(df.shape)\n",
    "df.sample(5)\n",
    "\n",
    "id_to_souce_lang = {id: lang for id, lang in df[df['is_original']==True][['id', 'language']].values}\n",
    "\n",
    "df['source_language'] = df['id'].apply(lambda x: id_to_souce_lang[x])\n",
    "result = df.groupby(['language', 'source_language']).size().unstack(level=1).fillna(0).T\n",
    "result"
   ]
  },
  {
   "cell_type": "code",
   "execution_count": 61,
   "metadata": {},
   "outputs": [
    {
     "data": {
      "text/html": [
       "<div>\n",
       "<style scoped>\n",
       "    .dataframe tbody tr th:only-of-type {\n",
       "        vertical-align: middle;\n",
       "    }\n",
       "\n",
       "    .dataframe tbody tr th {\n",
       "        vertical-align: top;\n",
       "    }\n",
       "\n",
       "    .dataframe thead th {\n",
       "        text-align: right;\n",
       "    }\n",
       "</style>\n",
       "<table border=\"1\" class=\"dataframe\">\n",
       "  <thead>\n",
       "    <tr style=\"text-align: right;\">\n",
       "      <th>language</th>\n",
       "      <th>bn^</th>\n",
       "      <th>en^</th>\n",
       "      <th>hi</th>\n",
       "      <th>hi^</th>\n",
       "      <th>ml^</th>\n",
       "      <th>mr^</th>\n",
       "      <th>ta</th>\n",
       "      <th>ta^</th>\n",
       "      <th>te^</th>\n",
       "    </tr>\n",
       "    <tr>\n",
       "      <th>source_language</th>\n",
       "      <th></th>\n",
       "      <th></th>\n",
       "      <th></th>\n",
       "      <th></th>\n",
       "      <th></th>\n",
       "      <th></th>\n",
       "      <th></th>\n",
       "      <th></th>\n",
       "      <th></th>\n",
       "    </tr>\n",
       "  </thead>\n",
       "  <tbody>\n",
       "    <tr>\n",
       "      <th>hi</th>\n",
       "      <td>0.758621</td>\n",
       "      <td>0.677876</td>\n",
       "      <td>1.0</td>\n",
       "      <td>0.684834</td>\n",
       "      <td>0.676471</td>\n",
       "      <td>0.736486</td>\n",
       "      <td>0.0</td>\n",
       "      <td>0.653846</td>\n",
       "      <td>0.680441</td>\n",
       "    </tr>\n",
       "    <tr>\n",
       "      <th>ta</th>\n",
       "      <td>0.241379</td>\n",
       "      <td>0.322124</td>\n",
       "      <td>0.0</td>\n",
       "      <td>0.315166</td>\n",
       "      <td>0.323529</td>\n",
       "      <td>0.263514</td>\n",
       "      <td>1.0</td>\n",
       "      <td>0.346154</td>\n",
       "      <td>0.319559</td>\n",
       "    </tr>\n",
       "  </tbody>\n",
       "</table>\n",
       "</div>"
      ],
      "text/plain": [
       "language              bn^       en^   hi       hi^       ml^       mr^   ta  \\\n",
       "source_language                                                               \n",
       "hi               0.758621  0.677876  1.0  0.684834  0.676471  0.736486  0.0   \n",
       "ta               0.241379  0.322124  0.0  0.315166  0.323529  0.263514  1.0   \n",
       "\n",
       "language              ta^       te^  \n",
       "source_language                      \n",
       "hi               0.653846  0.680441  \n",
       "ta               0.346154  0.319559  "
      ]
     },
     "execution_count": 61,
     "metadata": {},
     "output_type": "execute_result"
    }
   ],
   "source": [
    "result / result.sum(axis=0)"
   ]
  },
  {
   "cell_type": "code",
   "execution_count": 62,
   "metadata": {},
   "outputs": [
    {
     "name": "stdout",
     "output_type": "stream",
     "text": [
      "(7703, 9)\n"
     ]
    },
    {
     "data": {
      "text/html": [
       "<div>\n",
       "<style scoped>\n",
       "    .dataframe tbody tr th:only-of-type {\n",
       "        vertical-align: middle;\n",
       "    }\n",
       "\n",
       "    .dataframe tbody tr th {\n",
       "        vertical-align: top;\n",
       "    }\n",
       "\n",
       "    .dataframe thead th {\n",
       "        text-align: right;\n",
       "    }\n",
       "</style>\n",
       "<table border=\"1\" class=\"dataframe\">\n",
       "  <thead>\n",
       "    <tr style=\"text-align: right;\">\n",
       "      <th>language</th>\n",
       "      <th>bn^</th>\n",
       "      <th>en^</th>\n",
       "      <th>hi</th>\n",
       "      <th>hi^</th>\n",
       "      <th>ml^</th>\n",
       "      <th>mr^</th>\n",
       "      <th>ta</th>\n",
       "      <th>ta^</th>\n",
       "      <th>te^</th>\n",
       "    </tr>\n",
       "    <tr>\n",
       "      <th>source_language</th>\n",
       "      <th></th>\n",
       "      <th></th>\n",
       "      <th></th>\n",
       "      <th></th>\n",
       "      <th></th>\n",
       "      <th></th>\n",
       "      <th></th>\n",
       "      <th></th>\n",
       "      <th></th>\n",
       "    </tr>\n",
       "  </thead>\n",
       "  <tbody>\n",
       "    <tr>\n",
       "      <th>hi</th>\n",
       "      <td>644.0</td>\n",
       "      <td>708.0</td>\n",
       "      <td>746.0</td>\n",
       "      <td>708.0</td>\n",
       "      <td>644.0</td>\n",
       "      <td>644.0</td>\n",
       "      <td>0.0</td>\n",
       "      <td>644.0</td>\n",
       "      <td>644.0</td>\n",
       "    </tr>\n",
       "    <tr>\n",
       "      <th>ta</th>\n",
       "      <td>263.0</td>\n",
       "      <td>316.0</td>\n",
       "      <td>0.0</td>\n",
       "      <td>263.0</td>\n",
       "      <td>263.0</td>\n",
       "      <td>263.0</td>\n",
       "      <td>368.0</td>\n",
       "      <td>322.0</td>\n",
       "      <td>263.0</td>\n",
       "    </tr>\n",
       "  </tbody>\n",
       "</table>\n",
       "</div>"
      ],
      "text/plain": [
       "language           bn^    en^     hi    hi^    ml^    mr^     ta    ta^    te^\n",
       "source_language                                                               \n",
       "hi               644.0  708.0  746.0  708.0  644.0  644.0    0.0  644.0  644.0\n",
       "ta               263.0  316.0    0.0  263.0  263.0  263.0  368.0  322.0  263.0"
      ]
     },
     "execution_count": 62,
     "metadata": {},
     "output_type": "execute_result"
    }
   ],
   "source": [
    "df = pd.read_csv(os.path.join(data_dir_trans, f'train_transliterated.csv'))\n",
    "df['language'] = df['tgt'] \n",
    "df['language'] = df['language'].apply(reformat_lang_chaii)\n",
    "print(df.shape)\n",
    "df.sample(5)\n",
    "\n",
    "id_to_souce_lang = {id: lang for id, lang in df[df['is_original']==True][['id', 'language']].values}\n",
    "\n",
    "df['source_language'] = df['id'].apply(lambda x: id_to_souce_lang[x])\n",
    "result = df.groupby(['language', 'source_language']).size().unstack(level=1).fillna(0).T\n",
    "result"
   ]
  },
  {
   "cell_type": "code",
   "execution_count": 63,
   "metadata": {},
   "outputs": [
    {
     "data": {
      "text/html": [
       "<div>\n",
       "<style scoped>\n",
       "    .dataframe tbody tr th:only-of-type {\n",
       "        vertical-align: middle;\n",
       "    }\n",
       "\n",
       "    .dataframe tbody tr th {\n",
       "        vertical-align: top;\n",
       "    }\n",
       "\n",
       "    .dataframe thead th {\n",
       "        text-align: right;\n",
       "    }\n",
       "</style>\n",
       "<table border=\"1\" class=\"dataframe\">\n",
       "  <thead>\n",
       "    <tr style=\"text-align: right;\">\n",
       "      <th>language</th>\n",
       "      <th>bn^</th>\n",
       "      <th>en^</th>\n",
       "      <th>hi</th>\n",
       "      <th>hi^</th>\n",
       "      <th>ml^</th>\n",
       "      <th>mr^</th>\n",
       "      <th>ta</th>\n",
       "      <th>ta^</th>\n",
       "      <th>te^</th>\n",
       "    </tr>\n",
       "    <tr>\n",
       "      <th>source_language</th>\n",
       "      <th></th>\n",
       "      <th></th>\n",
       "      <th></th>\n",
       "      <th></th>\n",
       "      <th></th>\n",
       "      <th></th>\n",
       "      <th></th>\n",
       "      <th></th>\n",
       "      <th></th>\n",
       "    </tr>\n",
       "  </thead>\n",
       "  <tbody>\n",
       "    <tr>\n",
       "      <th>hi</th>\n",
       "      <td>0.710033</td>\n",
       "      <td>0.691406</td>\n",
       "      <td>1.0</td>\n",
       "      <td>0.729145</td>\n",
       "      <td>0.710033</td>\n",
       "      <td>0.710033</td>\n",
       "      <td>0.0</td>\n",
       "      <td>0.666667</td>\n",
       "      <td>0.710033</td>\n",
       "    </tr>\n",
       "    <tr>\n",
       "      <th>ta</th>\n",
       "      <td>0.289967</td>\n",
       "      <td>0.308594</td>\n",
       "      <td>0.0</td>\n",
       "      <td>0.270855</td>\n",
       "      <td>0.289967</td>\n",
       "      <td>0.289967</td>\n",
       "      <td>1.0</td>\n",
       "      <td>0.333333</td>\n",
       "      <td>0.289967</td>\n",
       "    </tr>\n",
       "  </tbody>\n",
       "</table>\n",
       "</div>"
      ],
      "text/plain": [
       "language              bn^       en^   hi       hi^       ml^       mr^   ta  \\\n",
       "source_language                                                               \n",
       "hi               0.710033  0.691406  1.0  0.729145  0.710033  0.710033  0.0   \n",
       "ta               0.289967  0.308594  0.0  0.270855  0.289967  0.289967  1.0   \n",
       "\n",
       "language              ta^       te^  \n",
       "source_language                      \n",
       "hi               0.666667  0.710033  \n",
       "ta               0.333333  0.289967  "
      ]
     },
     "execution_count": 63,
     "metadata": {},
     "output_type": "execute_result"
    }
   ],
   "source": [
    "result / result.sum(axis=0)"
   ]
  },
  {
   "cell_type": "markdown",
   "metadata": {},
   "source": [
    "# Train Data"
   ]
  },
  {
   "cell_type": "code",
   "execution_count": 29,
   "metadata": {},
   "outputs": [
    {
     "data": {
      "application/vnd.jupyter.widget-view+json": {
       "model_id": "d329cbb8f754435d901fcbc73a3433a7",
       "version_major": 2,
       "version_minor": 0
      },
      "text/plain": [
       "  0%|          | 0/5 [00:00<?, ?it/s]"
      ]
     },
     "metadata": {},
     "output_type": "display_data"
    },
    {
     "name": "stdout",
     "output_type": "stream",
     "text": [
      "                0     1     2     3     4\n",
      "is_original                              \n",
      "False        2170  2114  2109  2087  2154\n",
      "True          908   906   906   907   905\n"
     ]
    }
   ],
   "source": [
    "result = None\n",
    "for i in tqdm(range(k)):\n",
    "\n",
    "    df = pd.read_csv(os.path.join(data_dir_trans, f'train_translated_train_k{i}.csv'))\n",
    "    df['language'] = df['language'].apply(reformat_lang_chaii)\n",
    "    if i == 0:\n",
    "        result = df.groupby(['is_original']).size()\n",
    "    else:\n",
    "        result_new = df.groupby(['is_original']).size()\n",
    "        result = pd.concat([result, result_new], axis=1)\n",
    "result.columns = range(k)\n",
    "print(result)"
   ]
  },
  {
   "cell_type": "code",
   "execution_count": 30,
   "metadata": {},
   "outputs": [
    {
     "data": {
      "application/vnd.jupyter.widget-view+json": {
       "model_id": "99c65e2b8fbd4b4aa6159ca396441e5a",
       "version_major": 2,
       "version_minor": 0
      },
      "text/plain": [
       "  0%|          | 0/5 [00:00<?, ?it/s]"
      ]
     },
     "metadata": {},
     "output_type": "display_data"
    },
    {
     "name": "stdout",
     "output_type": "stream",
     "text": [
      "                        0    1    2    3    4\n",
      "is_original language                         \n",
      "False       bn^       240  232  231  228  240\n",
      "            en^       467  456  461  452  462\n",
      "            hi^       348  348  345  334  347\n",
      "            ml^       280  273  273  277  282\n",
      "            mr^       247  243  236  236  249\n",
      "            ta^       283  274  267  271  274\n",
      "            te^       305  288  296  289  300\n",
      "True        hi        609  606  607  607  606\n",
      "            ta        299  300  299  300  299\n"
     ]
    }
   ],
   "source": [
    "result = None\n",
    "for i in tqdm(range(k)):\n",
    "\n",
    "    df = pd.read_csv(os.path.join(data_dir_trans, f'train_translated_train_k{i}.csv'))\n",
    "    df['language'] = df['language'].apply(reformat_lang_chaii)\n",
    "    if i == 0:\n",
    "        result = df.groupby(['is_original', 'language']).size()\n",
    "    else:\n",
    "        result_new = df.groupby(['is_original', 'language']).size()\n",
    "        result = pd.concat([result, result_new], axis=1)\n",
    "result.columns = range(k)\n",
    "print(result)"
   ]
  },
  {
   "cell_type": "markdown",
   "metadata": {},
   "source": [
    "# Test Data"
   ]
  },
  {
   "cell_type": "code",
   "execution_count": 31,
   "metadata": {},
   "outputs": [
    {
     "data": {
      "application/vnd.jupyter.widget-view+json": {
       "model_id": "33016e8778774463b2825e368a4af5ba",
       "version_major": 2,
       "version_minor": 0
      },
      "text/plain": [
       "  0%|          | 0/5 [00:00<?, ?it/s]"
      ]
     },
     "metadata": {},
     "output_type": "display_data"
    },
    {
     "name": "stdout",
     "output_type": "stream",
     "text": [
      "           0   1   2   3   4\n",
      "language                    \n",
      "hi        67  67  67  67  67\n",
      "ta        33  33  33  33  33\n"
     ]
    }
   ],
   "source": [
    "result = None\n",
    "for i in tqdm(range(k)):\n",
    "\n",
    "    df = pd.read_csv(os.path.join(data_dir, f'train_test_k{i}.csv'))\n",
    "    df['language'] = df['language'].apply(reformat_lang_chaii)\n",
    "    if i == 0:\n",
    "        result = df.groupby(['language']).size()\n",
    "    else:\n",
    "        result_new = df.groupby(['language']).size()\n",
    "        result = pd.concat([result, result_new], axis=1)\n",
    "result.columns = range(k)\n",
    "print(result)"
   ]
  },
  {
   "cell_type": "code",
   "execution_count": 32,
   "metadata": {},
   "outputs": [
    {
     "data": {
      "application/vnd.jupyter.widget-view+json": {
       "model_id": "a9d8fdccf07c4b90b8be708346d22e85",
       "version_major": 2,
       "version_minor": 0
      },
      "text/plain": [
       "  0%|          | 0/5 [00:00<?, ?it/s]"
      ]
     },
     "metadata": {},
     "output_type": "display_data"
    },
    {
     "name": "stdout",
     "output_type": "stream",
     "text": [
      "     0    1    2    3    4\n",
      "0  100    4    7    9    8\n",
      "1    4  100    8   10   12\n",
      "2    7    8  100    6   10\n",
      "3    9   10    6  100    6\n",
      "4    8   12   10    6  100\n"
     ]
    }
   ],
   "source": [
    "# find the number of common examples across splits\n",
    "result = {}\n",
    "for i in tqdm(range(k)):\n",
    "    result[i] = {}\n",
    "    for j in range(k):\n",
    "        ids_i = set(pd.read_csv(os.path.join(data_dir, f'train_test_k{i}.csv'))['id'])\n",
    "        ids_j = set(pd.read_csv(os.path.join(data_dir, f'train_test_k{j}.csv'))['id'])\n",
    "        ids_common = ids_i.intersection(ids_j)\n",
    "        result[i][j] = len(ids_common)\n",
    "result = pd.DataFrame(result)  \n",
    "result.columns = range(k)\n",
    "print(result)"
   ]
  },
  {
   "cell_type": "markdown",
   "metadata": {},
   "source": []
  }
 ],
 "metadata": {
  "interpreter": {
   "hash": "e7221cc509de1078552005ff73f34914c7c1941210eebb2d4b9057c21fb691f9"
  },
  "kernelspec": {
   "display_name": "Python 3.9.7 ('mlqa')",
   "language": "python",
   "name": "python3"
  },
  "language_info": {
   "codemirror_mode": {
    "name": "ipython",
    "version": 3
   },
   "file_extension": ".py",
   "mimetype": "text/x-python",
   "name": "python",
   "nbconvert_exporter": "python",
   "pygments_lexer": "ipython3",
   "version": "3.8.5"
  },
  "orig_nbformat": 4
 },
 "nbformat": 4,
 "nbformat_minor": 2
}
